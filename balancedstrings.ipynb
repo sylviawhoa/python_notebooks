{
 "cells": [
  {
   "cell_type": "code",
   "execution_count": 1,
   "metadata": {
    "collapsed": true
   },
   "outputs": [],
   "source": [
    "#    http://www.ling.gu.se/~lager/python_exercises.html\n",
    "#    Problem #44\n",
    "#\n",
    "#    Your task in this exercise is as follows:\n",
    "#\n",
    "#    Generate a string with N opening brackets (\"[\") and closing brackets (\"]\"), \n",
    "#    in some arbitrary order.\n",
    "#    Determine whether the generated string is balanced; that is, whether it consists \n",
    "#    entirely of pairs of opening/closing brackets (in that order), none of which mis-nest. \n",
    "#\n",
    "#    Examples:\n",
    "#    []        OK   ][        NOT OK\n",
    "#    [][]      OK   ][][      NOT OK\n",
    "#    [[][]]    OK   []][[]    NOT OK"
   ]
  },
  {
   "cell_type": "code",
   "execution_count": 11,
   "metadata": {
    "collapsed": false
   },
   "outputs": [
    {
     "data": {
      "text/plain": [
       "'][[[]][][]'"
      ]
     },
     "execution_count": 11,
     "metadata": {},
     "output_type": "execute_result"
    }
   ],
   "source": [
    "import random\n",
    "\n",
    "\n",
    "def genString(N):\n",
    "    #create an array of 0's and 1's randomly of length N\n",
    "    arr = [];\n",
    "    while len(arr) < N:\n",
    "        arr.append(round(random.random()))\n",
    "\n",
    "    #use random array to create length N list of randomly open or closed brackets \n",
    "    str = ''\n",
    "    for i in range (0, N):\n",
    "        if arr[i]==1:\n",
    "            str+= '['\n",
    "        if arr[i]==0:\n",
    "            str+= ']'\n",
    "    return str\n",
    "\n",
    "genString(10)"
   ]
  },
  {
   "cell_type": "code",
   "execution_count": 7,
   "metadata": {
    "collapsed": false
   },
   "outputs": [],
   "source": [
    "# Function to check if input string s is balanced\n",
    "\n",
    "def check(s):\n",
    "    N = len(s)\n",
    "    i = 0\n",
    "    \n",
    "    # If the length is odd, or if the last character is '[', \n",
    "    # then we can immediately determine that the string is not balanced\n",
    "    \n",
    "    if (N%2 ==1 or s[N-1]=='['):\n",
    "        return False\n",
    "\n",
    "    # Otherwise, to check if the string is balanced, we recursively delete '[]' from the string\n",
    "    \n",
    "    # For a balanced string, the end result will be an empty string - anything else means the \n",
    "    #    original string was not balanced\n",
    "    else:\n",
    "        \n",
    "        while i < N/2:\n",
    "            # if at any point the first character is ']' we can return false and break\n",
    "            if s[0]==']':\n",
    "                return False\n",
    "                break\n",
    "            # if '[]' is found delete it from s and start search from the beginning   \n",
    "            if s[i:i+2] =='[]':\n",
    "                s = s[0:i]+s[i+2:N]\n",
    "                N= N-2\n",
    "                i = 0\n",
    "                if N == 0:\n",
    "                    return True\n",
    "                    break   \n",
    "            else :\n",
    "                i+=1\n",
    "            # if we get to the middle without finding '[]', the string is not balanced\n",
    "            if i == N/2:\n",
    "                    return False\n",
    "                \n",
    "# test strings\n",
    "s0= '[][[]][[]]'\n",
    "s1= '[][][]][]]'\n",
    "s2= '[][][][[[]'\n",
    "s3= '[][][][][]'                \n",
    "assert(check(s0) == True)\n",
    "assert(check(s1) == False)\n",
    "assert(check(s2) == False)\n",
    "assert(check(s3) == True)\n",
    "                "
   ]
  },
  {
   "cell_type": "code",
   "execution_count": 13,
   "metadata": {
    "collapsed": false,
    "scrolled": true
   },
   "outputs": [
    {
     "name": "stdout",
     "output_type": "stream",
     "text": [
      "[[][][[][[\n"
     ]
    },
    {
     "data": {
      "text/plain": [
       "False"
      ]
     },
     "execution_count": 13,
     "metadata": {},
     "output_type": "execute_result"
    }
   ],
   "source": [
    "a = genString(10)\n",
    "print a\n",
    "check(a)"
   ]
  },
  {
   "cell_type": "code",
   "execution_count": null,
   "metadata": {
    "collapsed": true
   },
   "outputs": [],
   "source": []
  }
 ],
 "metadata": {
  "kernelspec": {
   "display_name": "Python 2",
   "language": "python",
   "name": "python2"
  },
  "language_info": {
   "codemirror_mode": {
    "name": "ipython",
    "version": 2
   },
   "file_extension": ".py",
   "mimetype": "text/x-python",
   "name": "python",
   "nbconvert_exporter": "python",
   "pygments_lexer": "ipython2",
   "version": "2.7.9"
  }
 },
 "nbformat": 4,
 "nbformat_minor": 0
}
